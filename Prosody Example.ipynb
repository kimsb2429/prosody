{
 "cells": [
  {
   "cell_type": "code",
   "execution_count": 1,
   "id": "0d5baf59",
   "metadata": {},
   "outputs": [],
   "source": [
    "import pyathena as pa\n",
    "import pandas as pd"
   ]
  },
  {
   "cell_type": "code",
   "execution_count": 5,
   "id": "b773d899",
   "metadata": {},
   "outputs": [],
   "source": [
    "conn = pa.connect(\n",
    "    s3_staging_dir = 's3://prosodies-silver',\n",
    "    region_name = 'us-east-1',\n",
    "    work_group='primary'\n",
    ")"
   ]
  },
  {
   "cell_type": "code",
   "execution_count": 63,
   "id": "4bd4865d",
   "metadata": {},
   "outputs": [
    {
     "name": "stderr",
     "output_type": "stream",
     "text": [
      "/opt/homebrew/lib/python3.9/site-packages/pandas/io/sql.py:761: UserWarning: pandas only support SQLAlchemy connectable(engine/connection) ordatabase string URI or sqlite3 DBAPI2 connectionother DBAPI2 objects are not tested, please consider using SQLAlchemy\n",
      "  warnings.warn(\n"
     ]
    }
   ],
   "source": [
    "fulldf = pd.read_sql(\"select * from text.prosodies_gold\", conn)"
   ]
  },
  {
   "cell_type": "code",
   "execution_count": 70,
   "id": "405b1a8b",
   "metadata": {},
   "outputs": [],
   "source": [
    "fulldf = fulldf.head(6)"
   ]
  },
  {
   "cell_type": "code",
   "execution_count": 71,
   "id": "28f02c6c",
   "metadata": {},
   "outputs": [],
   "source": [
    "df = fulldf[[\"11\",\"100\",\"001\",\"10\",\"01\"]]\n"
   ]
  },
  {
   "cell_type": "code",
   "execution_count": 72,
   "id": "00f9a040",
   "metadata": {},
   "outputs": [
    {
     "data": {
      "text/html": [
       "<div>\n",
       "<style scoped>\n",
       "    .dataframe tbody tr th:only-of-type {\n",
       "        vertical-align: middle;\n",
       "    }\n",
       "\n",
       "    .dataframe tbody tr th {\n",
       "        vertical-align: top;\n",
       "    }\n",
       "\n",
       "    .dataframe thead th {\n",
       "        text-align: right;\n",
       "    }\n",
       "</style>\n",
       "<table border=\"1\" class=\"dataframe\">\n",
       "  <thead>\n",
       "    <tr style=\"text-align: right;\">\n",
       "      <th></th>\n",
       "      <th>11</th>\n",
       "      <th>100</th>\n",
       "      <th>001</th>\n",
       "      <th>10</th>\n",
       "      <th>01</th>\n",
       "    </tr>\n",
       "  </thead>\n",
       "  <tbody>\n",
       "    <tr>\n",
       "      <th>0</th>\n",
       "      <td>0.076504</td>\n",
       "      <td>0.013204</td>\n",
       "      <td>0.014789</td>\n",
       "      <td>0.104660</td>\n",
       "      <td>0.110064</td>\n",
       "    </tr>\n",
       "    <tr>\n",
       "      <th>1</th>\n",
       "      <td>0.100615</td>\n",
       "      <td>0.047938</td>\n",
       "      <td>0.044438</td>\n",
       "      <td>0.170324</td>\n",
       "      <td>0.163451</td>\n",
       "    </tr>\n",
       "    <tr>\n",
       "      <th>2</th>\n",
       "      <td>0.087106</td>\n",
       "      <td>0.045607</td>\n",
       "      <td>0.042170</td>\n",
       "      <td>0.169517</td>\n",
       "      <td>0.162140</td>\n",
       "    </tr>\n",
       "    <tr>\n",
       "      <th>3</th>\n",
       "      <td>0.103791</td>\n",
       "      <td>0.053094</td>\n",
       "      <td>0.049669</td>\n",
       "      <td>0.176068</td>\n",
       "      <td>0.170587</td>\n",
       "    </tr>\n",
       "    <tr>\n",
       "      <th>4</th>\n",
       "      <td>0.150860</td>\n",
       "      <td>0.041617</td>\n",
       "      <td>0.037615</td>\n",
       "      <td>0.163665</td>\n",
       "      <td>0.156062</td>\n",
       "    </tr>\n",
       "    <tr>\n",
       "      <th>5</th>\n",
       "      <td>0.139763</td>\n",
       "      <td>0.032686</td>\n",
       "      <td>0.030020</td>\n",
       "      <td>0.145964</td>\n",
       "      <td>0.139113</td>\n",
       "    </tr>\n",
       "  </tbody>\n",
       "</table>\n",
       "</div>"
      ],
      "text/plain": [
       "         11       100       001        10        01\n",
       "0  0.076504  0.013204  0.014789  0.104660  0.110064\n",
       "1  0.100615  0.047938  0.044438  0.170324  0.163451\n",
       "2  0.087106  0.045607  0.042170  0.169517  0.162140\n",
       "3  0.103791  0.053094  0.049669  0.176068  0.170587\n",
       "4  0.150860  0.041617  0.037615  0.163665  0.156062\n",
       "5  0.139763  0.032686  0.030020  0.145964  0.139113"
      ]
     },
     "execution_count": 72,
     "metadata": {},
     "output_type": "execute_result"
    }
   ],
   "source": [
    "df"
   ]
  },
  {
   "cell_type": "code",
   "execution_count": 73,
   "id": "b4a17e1d",
   "metadata": {},
   "outputs": [
    {
     "data": {
      "text/plain": [
       "['AChildsGardenOfVerses',\n",
       " 'DeclarationOfIndependence',\n",
       " 'TheConstitutionOfTheUnitedStatesOfAmerica',\n",
       " 'LincolnsFirstInauguralAddress',\n",
       " 'GiveMeLibertyOrGiveMeDeath',\n",
       " 'TheTragedyOfPuddnheadWilson']"
      ]
     },
     "execution_count": 73,
     "metadata": {},
     "output_type": "execute_result"
    }
   ],
   "source": [
    "title = fulldf[[\"title\"]]\n",
    "title_list = [item for sublist in title.values.tolist() for item in sublist]\n",
    "title_list"
   ]
  },
  {
   "cell_type": "code",
   "execution_count": 14,
   "id": "8d4a6529",
   "metadata": {},
   "outputs": [],
   "source": [
    "from sklearn.manifold import MDS\n",
    "from matplotlib import pyplot as plt\n",
    "import sklearn.datasets as dt\n",
    "import seaborn as sns         \n",
    "import numpy as np\n",
    "from sklearn.metrics.pairwise import manhattan_distances, euclidean_distances\n",
    "from matplotlib.offsetbox import OffsetImage, AnnotationBbox"
   ]
  },
  {
   "cell_type": "code",
   "execution_count": 74,
   "id": "f63eb019",
   "metadata": {},
   "outputs": [
    {
     "name": "stdout",
     "output_type": "stream",
     "text": [
      "[[-0.01742934  0.07839299]\n",
      " [-0.01372133 -0.02475767]\n",
      " [-0.02634588 -0.01915945]\n",
      " [-0.00779041 -0.03516583]\n",
      " [ 0.03931428 -0.01322951]\n",
      " [ 0.02597269  0.01391948]]\n"
     ]
    }
   ],
   "source": [
    "# X = np.array([[0, 0, 0], [0, 0, 1], [1, 1, 1], [0, 1, 0], [0, 1, 1]])\n",
    "X = df.to_numpy()\n",
    "mds = MDS(random_state=0)\n",
    "X_transform = mds.fit_transform(X)\n",
    "print(X_transform)\n"
   ]
  },
  {
   "cell_type": "code",
   "execution_count": 75,
   "id": "1d2b2d8c",
   "metadata": {},
   "outputs": [],
   "source": [
    "dist_manhattan = manhattan_distances(X)\n",
    "mds = MDS(dissimilarity='precomputed', random_state=0)\n",
    "# Get the embeddings\n",
    "X_transform_L1 = mds.fit_transform(dist_manhattan)"
   ]
  },
  {
   "cell_type": "code",
   "execution_count": 77,
   "id": "46ad6e5d",
   "metadata": {},
   "outputs": [
    {
     "data": {
      "image/png": "[encoded data removed]",
      "text/plain": [
       "<Figure size 720x288 with 1 Axes>"
      ]
     },
     "metadata": {
      "needs_background": "light"
     },
     "output_type": "display_data"
    }
   ],
   "source": [
    "colors = ['r', 'g', 'b', 'c', 'm', 'y']\n",
    "size = [64, 64, 64, 64, 64, 64]\n",
    "fig = plt.figure(2, (10,4))\n",
    "ax = fig.add_subplot(122)\n",
    "plt.scatter(X_transform[:,0], X_transform[:,1], s=size, c=colors)\n",
    "plt.title('Prosodic Similarity MDS-2D')\n",
    "fig.subplots_adjust(wspace=.4, hspace=0.5)\n",
    "for i, title in enumerate(title_list):\n",
    "    ax.annotate(title, (X_transform[:,0][i], X_transform[:,1][i]))\n",
    "\n",
    "plt.show()"
   ]
  },
  {
   "cell_type": "code",
   "execution_count": null,
   "id": "53c6ec64",
   "metadata": {},
   "outputs": [],
   "source": [
    "# \"A Child's Garden of Verses\" is metered poetry, which would explain its unique position in the plot.\n",
    "\n",
    "# \"The Tragedy of Pudd'nhead Wilson\" is fiction, \n",
    "# whereas the other texts in the lower half of the plot are nonfiction.\n",
    "# An interesting proposition would be that works of fiction have a \n",
    "# distinctly different prosodic profile than works of nonfiction."
   ]
  }
 ],
 "metadata": {
  "kernelspec": {
   "display_name": "athena",
   "language": "python",
   "name": "athena"
  },
  "language_info": {
   "codemirror_mode": {
    "name": "ipython",
    "version": 3
   },
   "file_extension": ".py",
   "mimetype": "text/x-python",
   "name": "python",
   "nbconvert_exporter": "python",
   "pygments_lexer": "ipython3",
   "version": "3.9.13"
  }
 },
 "nbformat": 4,
 "nbformat_minor": 5
}
